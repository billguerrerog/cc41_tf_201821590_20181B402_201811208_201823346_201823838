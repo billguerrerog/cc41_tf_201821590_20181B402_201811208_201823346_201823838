{
  "nbformat": 4,
  "nbformat_minor": 0,
  "metadata": {
    "colab": {
      "name": "Algoritmo Bill.ipynb",
      "provenance": [],
      "collapsed_sections": []
    },
    "kernelspec": {
      "name": "python3",
      "display_name": "Python 3"
    },
    "language_info": {
      "name": "python"
    }
  },
  "cells": [
    {
      "cell_type": "code",
      "metadata": {
        "colab": {
          "base_uri": "https://localhost:8080/"
        },
        "id": "WP6AYyum-vus",
        "outputId": "e2ee2ef3-e16c-4418-f299-9e21dc16d892"
      },
      "source": [
        "#READING CSV\n",
        "import pandas as pd\n",
        "from copy import deepcopy\n",
        "from google.colab import drive \n",
        "drive.mount('/content/gdrive')\n",
        "\n",
        "almacenes = pd.read_csv(\"/content/gdrive/MyDrive/Trabajos 7mo Ciclo/Complejidad/almacenes.csv\")\n",
        "alm = almacenes[['Coord X', 'Coord Y']]\n",
        "nodeTypeALM = [1]*100\n",
        "alm['NodeType'] = nodeTypeALM\n",
        "\n",
        "puntos_entrega = pd.read_csv(\"/content/gdrive/MyDrive/Trabajos 7mo Ciclo/Complejidad/puntos_entrega.csv\")\n",
        "pe = puntos_entrega[['Coord X', 'Coord Y']]\n",
        "nodeTypePE = [2]*5000\n",
        "pe['NodeType'] = nodeTypePE"
      ],
      "execution_count": 19,
      "outputs": [
        {
          "output_type": "stream",
          "name": "stdout",
          "text": [
            "Drive already mounted at /content/gdrive; to attempt to forcibly remount, call drive.mount(\"/content/gdrive\", force_remount=True).\n"
          ]
        }
      ]
    },
    {
      "cell_type": "code",
      "metadata": {
        "id": "edb_s9rqI7f_"
      },
      "source": [
        "#Join both lists\n",
        "newDF = pd.concat([alm, pe])\n",
        "\n",
        "#List to use (nodeType) and list to compare (noType)\n",
        "nodeTypeList = newDF[['Coord X', 'Coord Y', 'NodeType']].values.tolist()\n",
        "noTypeList = newDF[['Coord X', 'Coord Y']].values.tolist()"
      ],
      "execution_count": 38,
      "outputs": []
    },
    {
      "cell_type": "code",
      "metadata": {
        "id": "Xeuq1clDvRyS"
      },
      "source": [
        "#Sorting List by Y then by X\n",
        "def orderList(list_):\n",
        "    newL = sorted(list_, key=lambda y: y[1])\n",
        "    newL.sort(key=lambda x: x[0])\n",
        "    return deepcopy(newL)\n",
        "\n",
        "newL = orderList(noTypeList)\n",
        "newTypeList = orderList(nodeTypeList)"
      ],
      "execution_count": 58,
      "outputs": []
    },
    {
      "cell_type": "code",
      "metadata": {
        "id": "Enrcn4akyrCi"
      },
      "source": [
        "# Storage/DeliveryPoint Nodes to append\n",
        "def popStuff(popList, times):\n",
        "    to_return = []\n",
        "    popList.reverse()\n",
        "    for j in range(times):\n",
        "        to_return.append(popList.pop())\n",
        "    popList.reverse()\n",
        "    return to_return\n",
        "\n",
        "#Search X Coords Nodes (it's sorted already)\n",
        "def searchX(tempList, tempNodeTypeList, x):\n",
        "    returnList = []\n",
        "    popped = []\n",
        "    max = 0\n",
        "\n",
        "    if len(tempList)==0 and len(tempNodeTypeList)==0:\n",
        "        return returnList, popped\n",
        "    for i in tempList: #Getting comparison list\n",
        "        if i[0] == x:\n",
        "            max += 1\n",
        "            returnList.append(i)\n",
        "        else:\n",
        "            break\n",
        "    \n",
        "    popStuff(tempList, max)\n",
        "    popped = []\n",
        "    popped = popStuff(tempNodeTypeList, max)\n",
        "    return returnList, popped"
      ],
      "execution_count": 89,
      "outputs": []
    },
    {
      "cell_type": "code",
      "metadata": {
        "id": "RFOVy5orlwm-"
      },
      "source": [
        "# Create graph\n",
        "def graph(nodesList, newL_, newTypeList_):\n",
        "    xList = [i for i in range(1000)]\n",
        "    yList = [i for i in range(1000)]\n",
        "    nodesCont = 0\n",
        "\n",
        "    tempNoTypeList = deepcopy(newL_)\n",
        "    tempTypeList = deepcopy(newTypeList_)\n",
        "\n",
        "    for x in xList:\n",
        "        smallList = [] #Comparison list\n",
        "        popped = [] #To List\n",
        "        if len(tempNoTypeList)>0 and len(tempTypeList)>0:\n",
        "            smallList, popped = searchX(tempNoTypeList, tempTypeList, x)\n",
        "        for y in yList:\n",
        "            ady1 = nodesCont - 1000 #left then goes clockwise\n",
        "            ady2 = nodesCont - 1\n",
        "            ady3 = nodesCont + 1000\n",
        "            ady4 = nodesCont + 1\n",
        "            # Validations - not corners\n",
        "            if x == 0: ady1 = -1\n",
        "            if x == 999: ady3 = -1\n",
        "            if y == 0: ady2 = -1\n",
        "            if y == 999: ady4 = -1\n",
        "\n",
        "            ady0 = [ady1, ady2, ady3, ady4]\n",
        "\n",
        "            if len(popped) > 0 and len(smallList) > 0 and [x, y] in smallList:\n",
        "                t = popped.pop(0)\n",
        "                nodesList.append([t[0], t[1], t[2], ady0])\n",
        "            else:\n",
        "                nodesList.append([x, y, 0, ady0])\n",
        "            \n",
        "            nodesCont += 1"
      ],
      "execution_count": 94,
      "outputs": []
    },
    {
      "cell_type": "code",
      "metadata": {
        "id": "kZ-s3hRyks4r"
      },
      "source": [
        "# Creating the new graph\n",
        "nodes = []\n",
        "graph(nodes, newL, newTypeList)"
      ],
      "execution_count": 95,
      "outputs": []
    },
    {
      "cell_type": "code",
      "metadata": {
        "colab": {
          "base_uri": "https://localhost:8080/"
        },
        "id": "FdIIjsfVM_-S",
        "outputId": "8829d64d-fbb8-44f6-e66d-b629ac82f8e0"
      },
      "source": [
        "def print_nodes(aeaList):\n",
        "    for i in range(1000):\n",
        "        print(aeaList[i])\n",
        "    print(len(aeaList))\n",
        "\n",
        "#print_nodes(nodesList)\n",
        "def print_corners(aeaList):\n",
        "    for i in range(0, 5):\n",
        "        print(aeaList[i])\n",
        "        print(aeaList[-i])\n",
        "\n",
        "print_corners(nodes)"
      ],
      "execution_count": 96,
      "outputs": [
        {
          "output_type": "stream",
          "name": "stdout",
          "text": [
            "[0, 0, 0, [-1, -1, 1000, 1]]\n",
            "[0, 0, 0, [-1, -1, 1000, 1]]\n",
            "[0, 1, 0, [-1, 0, 1001, 2]]\n",
            "[999, 999, 0, [998999, 999998, -1, -1]]\n",
            "[0, 2, 0, [-1, 1, 1002, 3]]\n",
            "[999, 998, 0, [998998, 999997, -1, 999999]]\n",
            "[0, 3, 0, [-1, 2, 1003, 4]]\n",
            "[999, 997, 0, [998997, 999996, -1, 999998]]\n",
            "[0, 4, 0, [-1, 3, 1004, 5]]\n",
            "[999, 996, 0, [998996, 999995, -1, 999997]]\n"
          ]
        }
      ]
    },
    {
      "cell_type": "code",
      "metadata": {
        "id": "fYxPsM1hfV2f"
      },
      "source": [
        "nodes_copy = deepcopy(nodes)\n",
        "new_nodes = sorted(nodes_copy, key=lambda y: y[2])"
      ],
      "execution_count": 97,
      "outputs": []
    },
    {
      "cell_type": "code",
      "metadata": {
        "id": "Lq6jAgs-it18"
      },
      "source": [
        "def popStuffAndDelete(popList, times):\n",
        "    to_return = []\n",
        "    popList.reverse()\n",
        "    for j in range(times):\n",
        "        popped = popList.pop()\n",
        "        del popped[3]\n",
        "        del popped[2]\n",
        "        to_return.append(popped)\n",
        "    popList.reverse()\n",
        "    return to_return\n",
        "\n",
        "def deleteStuff(nodesList):\n",
        "    for i in nodesList:\n",
        "        del i[3]\n",
        "        del i[2]\n",
        "\n",
        "def separateTypes(tempNodes, x):\n",
        "    max = 0\n",
        "    for i in tempNodes:\n",
        "        if i[2] == x:\n",
        "            max += 1\n",
        "        else:\n",
        "            popped = popStuffAndDelete(tempNodes, max)\n",
        "            return popped"
      ],
      "execution_count": 98,
      "outputs": []
    },
    {
      "cell_type": "code",
      "metadata": {
        "id": "C21IB2aenMvn"
      },
      "source": [
        "new_nodes_copy = deepcopy(new_nodes)\n",
        "\n",
        "normal_nodes = separateTypes(new_nodes_copy, 0)\n",
        "alm_nodes = separateTypes(new_nodes_copy, 1)\n",
        "ent_nodes = new_nodes_copy\n",
        "deleteStuff(ent_nodes)"
      ],
      "execution_count": 99,
      "outputs": []
    },
    {
      "cell_type": "code",
      "metadata": {
        "colab": {
          "base_uri": "https://localhost:8080/",
          "height": 264
        },
        "id": "oGOeTaMsSAlJ",
        "outputId": "c427259b-30b8-4756-9eaa-5a60008c9892"
      },
      "source": [
        "import matplotlib.pyplot as plt\n",
        "import numpy as np\n",
        "\n",
        "normal_np = np.array(normal_nodes)\n",
        "alm_np = np.array(alm_nodes)\n",
        "ent_np = np.array(ent_nodes)\n",
        "\n",
        "plt.scatter(*zip(*normal_np))\n",
        "plt.scatter(*zip(*alm_np))\n",
        "plt.scatter(*zip(*ent_np))\n",
        "\n",
        "cm = 1/2.54\n",
        "plt.rcParams[\"figure.figsize\"] = [60*cm, 30*cm]\n",
        "plt.rcParams[\"figure.autolayout\"] = True\n",
        "plt.show()"
      ],
      "execution_count": 100,
      "outputs": [
        {
          "output_type": "display_data",
          "data": {
            "image/png": "[encoded data removed]",
            "text/plain": [
              "<Figure size 432x288 with 1 Axes>"
            ]
          },
          "metadata": {
            "needs_background": "light"
          }
        }
      ]
    },
    {
      "cell_type": "code",
      "metadata": {
        "id": "w51vkHtIXWcg"
      },
      "source": [
        "# Making a copy of resulting graph\n",
        "nodes_copy = deepcopy(nodes)"
      ],
      "execution_count": 101,
      "outputs": []
    },
    {
      "cell_type": "code",
      "metadata": {
        "id": "DtyCqDUwXH-U"
      },
      "source": [
        "# BFS since all edges have the same weight (among all nodes)\n",
        "def bfs(graph, s, size):\n",
        "    visited = [False]*size\n",
        "    parent = [None]*size\n",
        "    queue = [s]\n",
        "    visited[s] = True\n",
        "\n",
        "    while queue:\n",
        "        u = queue.pop(0)\n",
        "        node = graph[u]\n",
        "        for v in node[3]:\n",
        "            if v >= 0:\n",
        "                if not visited[v]:\n",
        "                    visited[v] = True\n",
        "                    parent[v] = u\n",
        "                    queue.append(v)\n",
        "\n",
        "    return parent"
      ],
      "execution_count": 102,
      "outputs": []
    },
    {
      "cell_type": "code",
      "metadata": {
        "colab": {
          "base_uri": "https://localhost:8080/"
        },
        "id": "vboE0kbarOxA",
        "outputId": "a5dd84fe-6582-44c2-db7d-826475a1eac3"
      },
      "source": [
        "path = bfs(nodes_copy, 0, len(nodes_copy)) #Creating all paths\n",
        "\n",
        "print(len(path))"
      ],
      "execution_count": 104,
      "outputs": [
        {
          "output_type": "stream",
          "name": "stdout",
          "text": [
            "1000000\n"
          ]
        }
      ]
    },
    {
      "cell_type": "code",
      "metadata": {
        "id": "6dWs5XoXXOKu"
      },
      "source": [
        "# Dijkstra desde cada almacen a todos los puntos de entrega. BFS since all edges have the same weight\n",
        "\n",
        "# Partir de un nodo Storage a todos los nodos Delivery\n",
        "# 1. Verificar que sea Storage y hacer una lista de paths para cada nodo Delivery\n",
        "# 2. Esto resultará en una lista de 5000 rutas por cada Storage (100 listas en total)\n",
        "\n",
        "def find_route(all_routes, alm_node, ent_node):\n",
        "    start_node = all_routes[ent_node] #returns parent\n",
        "    #ir desde ent_node hasta alm_node con un while hasta que encuentre el nodo que necesita\n",
        "    #Las rutas se obtienen recorriendo las rutas generales de manera inversa\n",
        "    route = []\n",
        "    route.append(ent_node)\n",
        "\n",
        "    if start_node == alm_node: #Comprueba si son nodos adyacentes\n",
        "        route.append(alm_node)\n",
        "        route.reverse()\n",
        "        return route\n",
        "\n",
        "    while start_node != alm_node: #Recorre los padres desde el punto de entrega hasta el almacén (inversamente)\n",
        "        route.append(start_node)\n",
        "        start_node = all_routes[start_node]\n",
        "\n",
        "    route.append(alm_node)\n",
        "    route.reverse()\n",
        "    return route #returns 1 route\n",
        "\n",
        "def find_nodes(graph, node_type, max):\n",
        "    nodes = []\n",
        "    cont_ent = 0\n",
        "    size = len(graph)\n",
        "    for i in range(size):\n",
        "        if graph[i][2] == node_type:\n",
        "            nodes.append(i)\n",
        "            cont_ent += 1\n",
        "        if cont_ent == max:\n",
        "            return nodes #returns all nodes of that type\n",
        "\n",
        "def all_routes_from_alm(graph, alm_node, size, ent_nodes_list):\n",
        "    routes = []\n",
        "    parent = bfs(graph, alm_node, size)\n",
        "\n",
        "    for i in range(len(ent_nodes_list)): #ent_nodes\n",
        "        route = []\n",
        "        route.append(alm_node)\n",
        "        route.append(ent_nodes_list[i])\n",
        "        route.append(find_route(parent, alm_node, ent_nodes_list[i]))\n",
        "        routes.append(route)\n",
        "\n",
        "    return routes #returns 5k routes of that Storage node\n",
        "\n",
        "def bfs_alm(graph, size): #Only asking to every Storage node\n",
        "    routes = []\n",
        "    cont_alm = 0\n",
        "    alm_nodes_list = find_nodes(graph, 1, 100) #alm = 1 / ent = 2\n",
        "    ent_nodes_list = find_nodes(graph, 2, 5000) #alm = 1 / ent = 2\n",
        "\n",
        "    for i in range(len(alm_nodes_list)):\n",
        "        routes.append(all_routes_from_alm(graph, alm_nodes_list[i], size, ent_nodes_list))\n",
        "\n",
        "    return routes #returns 5k * 100 routes"
      ],
      "execution_count": 110,
      "outputs": []
    },
    {
      "cell_type": "code",
      "metadata": {
        "id": "tdBkMsjx0bfa"
      },
      "source": [
        "routes = bfs_alm(nodes_copy, len(nodes_copy))"
      ],
      "execution_count": 111,
      "outputs": []
    },
    {
      "cell_type": "code",
      "metadata": {
        "colab": {
          "base_uri": "https://localhost:8080/"
        },
        "id": "QxgpO2ksduVu",
        "outputId": "4993f23b-1121-4866-c062-a5b1e019b8f3"
      },
      "source": [
        "for i in range(5):\n",
        "    print(routes[0][i])\n",
        "print(len(routes))"
      ],
      "execution_count": 112,
      "outputs": [
        {
          "output_type": "stream",
          "name": "stdout",
          "text": [
            "[16535, 103, [16535, 15535, 14535, 13535, 12535, 11535, 10535, 9535, 8535, 7535, 6535, 5535, 4535, 3535, 2535, 1535, 535, 534, 533, 532, 531, 530, 529, 528, 527, 526, 525, 524, 523, 522, 521, 520, 519, 518, 517, 516, 515, 514, 513, 512, 511, 510, 509, 508, 507, 506, 505, 504, 503, 502, 501, 500, 499, 498, 497, 496, 495, 494, 493, 492, 491, 490, 489, 488, 487, 486, 485, 484, 483, 482, 481, 480, 479, 478, 477, 476, 475, 474, 473, 472, 471, 470, 469, 468, 467, 466, 465, 464, 463, 462, 461, 460, 459, 458, 457, 456, 455, 454, 453, 452, 451, 450, 449, 448, 447, 446, 445, 444, 443, 442, 441, 440, 439, 438, 437, 436, 435, 434, 433, 432, 431, 430, 429, 428, 427, 426, 425, 424, 423, 422, 421, 420, 419, 418, 417, 416, 415, 414, 413, 412, 411, 410, 409, 408, 407, 406, 405, 404, 403, 402, 401, 400, 399, 398, 397, 396, 395, 394, 393, 392, 391, 390, 389, 388, 387, 386, 385, 384, 383, 382, 381, 380, 379, 378, 377, 376, 375, 374, 373, 372, 371, 370, 369, 368, 367, 366, 365, 364, 363, 362, 361, 360, 359, 358, 357, 356, 355, 354, 353, 352, 351, 350, 349, 348, 347, 346, 345, 344, 343, 342, 341, 340, 339, 338, 337, 336, 335, 334, 333, 332, 331, 330, 329, 328, 327, 326, 325, 324, 323, 322, 321, 320, 319, 318, 317, 316, 315, 314, 313, 312, 311, 310, 309, 308, 307, 306, 305, 304, 303, 302, 301, 300, 299, 298, 297, 296, 295, 294, 293, 292, 291, 290, 289, 288, 287, 286, 285, 284, 283, 282, 281, 280, 279, 278, 277, 276, 275, 274, 273, 272, 271, 270, 269, 268, 267, 266, 265, 264, 263, 262, 261, 260, 259, 258, 257, 256, 255, 254, 253, 252, 251, 250, 249, 248, 247, 246, 245, 244, 243, 242, 241, 240, 239, 238, 237, 236, 235, 234, 233, 232, 231, 230, 229, 228, 227, 226, 225, 224, 223, 222, 221, 220, 219, 218, 217, 216, 215, 214, 213, 212, 211, 210, 209, 208, 207, 206, 205, 204, 203, 202, 201, 200, 199, 198, 197, 196, 195, 194, 193, 192, 191, 190, 189, 188, 187, 186, 185, 184, 183, 182, 181, 180, 179, 178, 177, 176, 175, 174, 173, 172, 171, 170, 169, 168, 167, 166, 165, 164, 163, 162, 161, 160, 159, 158, 157, 156, 155, 154, 153, 152, 151, 150, 149, 148, 147, 146, 145, 144, 143, 142, 141, 140, 139, 138, 137, 136, 135, 134, 133, 132, 131, 130, 129, 128, 127, 126, 125, 124, 123, 122, 121, 120, 119, 118, 117, 116, 115, 114, 113, 112, 111, 110, 109, 108, 107, 106, 105, 104, 103]]\n",
            "[16535, 134, [16535, 15535, 14535, 13535, 12535, 11535, 10535, 9535, 8535, 7535, 6535, 5535, 4535, 3535, 2535, 1535, 535, 534, 533, 532, 531, 530, 529, 528, 527, 526, 525, 524, 523, 522, 521, 520, 519, 518, 517, 516, 515, 514, 513, 512, 511, 510, 509, 508, 507, 506, 505, 504, 503, 502, 501, 500, 499, 498, 497, 496, 495, 494, 493, 492, 491, 490, 489, 488, 487, 486, 485, 484, 483, 482, 481, 480, 479, 478, 477, 476, 475, 474, 473, 472, 471, 470, 469, 468, 467, 466, 465, 464, 463, 462, 461, 460, 459, 458, 457, 456, 455, 454, 453, 452, 451, 450, 449, 448, 447, 446, 445, 444, 443, 442, 441, 440, 439, 438, 437, 436, 435, 434, 433, 432, 431, 430, 429, 428, 427, 426, 425, 424, 423, 422, 421, 420, 419, 418, 417, 416, 415, 414, 413, 412, 411, 410, 409, 408, 407, 406, 405, 404, 403, 402, 401, 400, 399, 398, 397, 396, 395, 394, 393, 392, 391, 390, 389, 388, 387, 386, 385, 384, 383, 382, 381, 380, 379, 378, 377, 376, 375, 374, 373, 372, 371, 370, 369, 368, 367, 366, 365, 364, 363, 362, 361, 360, 359, 358, 357, 356, 355, 354, 353, 352, 351, 350, 349, 348, 347, 346, 345, 344, 343, 342, 341, 340, 339, 338, 337, 336, 335, 334, 333, 332, 331, 330, 329, 328, 327, 326, 325, 324, 323, 322, 321, 320, 319, 318, 317, 316, 315, 314, 313, 312, 311, 310, 309, 308, 307, 306, 305, 304, 303, 302, 301, 300, 299, 298, 297, 296, 295, 294, 293, 292, 291, 290, 289, 288, 287, 286, 285, 284, 283, 282, 281, 280, 279, 278, 277, 276, 275, 274, 273, 272, 271, 270, 269, 268, 267, 266, 265, 264, 263, 262, 261, 260, 259, 258, 257, 256, 255, 254, 253, 252, 251, 250, 249, 248, 247, 246, 245, 244, 243, 242, 241, 240, 239, 238, 237, 236, 235, 234, 233, 232, 231, 230, 229, 228, 227, 226, 225, 224, 223, 222, 221, 220, 219, 218, 217, 216, 215, 214, 213, 212, 211, 210, 209, 208, 207, 206, 205, 204, 203, 202, 201, 200, 199, 198, 197, 196, 195, 194, 193, 192, 191, 190, 189, 188, 187, 186, 185, 184, 183, 182, 181, 180, 179, 178, 177, 176, 175, 174, 173, 172, 171, 170, 169, 168, 167, 166, 165, 164, 163, 162, 161, 160, 159, 158, 157, 156, 155, 154, 153, 152, 151, 150, 149, 148, 147, 146, 145, 144, 143, 142, 141, 140, 139, 138, 137, 136, 135, 134]]\n",
            "[16535, 942, [16535, 15535, 14535, 13535, 12535, 11535, 10535, 9535, 8535, 7535, 6535, 5535, 4535, 3535, 2535, 1535, 535, 536, 537, 538, 539, 540, 541, 542, 543, 544, 545, 546, 547, 548, 549, 550, 551, 552, 553, 554, 555, 556, 557, 558, 559, 560, 561, 562, 563, 564, 565, 566, 567, 568, 569, 570, 571, 572, 573, 574, 575, 576, 577, 578, 579, 580, 581, 582, 583, 584, 585, 586, 587, 588, 589, 590, 591, 592, 593, 594, 595, 596, 597, 598, 599, 600, 601, 602, 603, 604, 605, 606, 607, 608, 609, 610, 611, 612, 613, 614, 615, 616, 617, 618, 619, 620, 621, 622, 623, 624, 625, 626, 627, 628, 629, 630, 631, 632, 633, 634, 635, 636, 637, 638, 639, 640, 641, 642, 643, 644, 645, 646, 647, 648, 649, 650, 651, 652, 653, 654, 655, 656, 657, 658, 659, 660, 661, 662, 663, 664, 665, 666, 667, 668, 669, 670, 671, 672, 673, 674, 675, 676, 677, 678, 679, 680, 681, 682, 683, 684, 685, 686, 687, 688, 689, 690, 691, 692, 693, 694, 695, 696, 697, 698, 699, 700, 701, 702, 703, 704, 705, 706, 707, 708, 709, 710, 711, 712, 713, 714, 715, 716, 717, 718, 719, 720, 721, 722, 723, 724, 725, 726, 727, 728, 729, 730, 731, 732, 733, 734, 735, 736, 737, 738, 739, 740, 741, 742, 743, 744, 745, 746, 747, 748, 749, 750, 751, 752, 753, 754, 755, 756, 757, 758, 759, 760, 761, 762, 763, 764, 765, 766, 767, 768, 769, 770, 771, 772, 773, 774, 775, 776, 777, 778, 779, 780, 781, 782, 783, 784, 785, 786, 787, 788, 789, 790, 791, 792, 793, 794, 795, 796, 797, 798, 799, 800, 801, 802, 803, 804, 805, 806, 807, 808, 809, 810, 811, 812, 813, 814, 815, 816, 817, 818, 819, 820, 821, 822, 823, 824, 825, 826, 827, 828, 829, 830, 831, 832, 833, 834, 835, 836, 837, 838, 839, 840, 841, 842, 843, 844, 845, 846, 847, 848, 849, 850, 851, 852, 853, 854, 855, 856, 857, 858, 859, 860, 861, 862, 863, 864, 865, 866, 867, 868, 869, 870, 871, 872, 873, 874, 875, 876, 877, 878, 879, 880, 881, 882, 883, 884, 885, 886, 887, 888, 889, 890, 891, 892, 893, 894, 895, 896, 897, 898, 899, 900, 901, 902, 903, 904, 905, 906, 907, 908, 909, 910, 911, 912, 913, 914, 915, 916, 917, 918, 919, 920, 921, 922, 923, 924, 925, 926, 927, 928, 929, 930, 931, 932, 933, 934, 935, 936, 937, 938, 939, 940, 941, 942]]\n",
            "[16535, 1004, [16535, 15535, 14535, 13535, 12535, 11535, 10535, 9535, 8535, 7535, 6535, 5535, 4535, 3535, 2535, 1535, 1534, 1533, 1532, 1531, 1530, 1529, 1528, 1527, 1526, 1525, 1524, 1523, 1522, 1521, 1520, 1519, 1518, 1517, 1516, 1515, 1514, 1513, 1512, 1511, 1510, 1509, 1508, 1507, 1506, 1505, 1504, 1503, 1502, 1501, 1500, 1499, 1498, 1497, 1496, 1495, 1494, 1493, 1492, 1491, 1490, 1489, 1488, 1487, 1486, 1485, 1484, 1483, 1482, 1481, 1480, 1479, 1478, 1477, 1476, 1475, 1474, 1473, 1472, 1471, 1470, 1469, 1468, 1467, 1466, 1465, 1464, 1463, 1462, 1461, 1460, 1459, 1458, 1457, 1456, 1455, 1454, 1453, 1452, 1451, 1450, 1449, 1448, 1447, 1446, 1445, 1444, 1443, 1442, 1441, 1440, 1439, 1438, 1437, 1436, 1435, 1434, 1433, 1432, 1431, 1430, 1429, 1428, 1427, 1426, 1425, 1424, 1423, 1422, 1421, 1420, 1419, 1418, 1417, 1416, 1415, 1414, 1413, 1412, 1411, 1410, 1409, 1408, 1407, 1406, 1405, 1404, 1403, 1402, 1401, 1400, 1399, 1398, 1397, 1396, 1395, 1394, 1393, 1392, 1391, 1390, 1389, 1388, 1387, 1386, 1385, 1384, 1383, 1382, 1381, 1380, 1379, 1378, 1377, 1376, 1375, 1374, 1373, 1372, 1371, 1370, 1369, 1368, 1367, 1366, 1365, 1364, 1363, 1362, 1361, 1360, 1359, 1358, 1357, 1356, 1355, 1354, 1353, 1352, 1351, 1350, 1349, 1348, 1347, 1346, 1345, 1344, 1343, 1342, 1341, 1340, 1339, 1338, 1337, 1336, 1335, 1334, 1333, 1332, 1331, 1330, 1329, 1328, 1327, 1326, 1325, 1324, 1323, 1322, 1321, 1320, 1319, 1318, 1317, 1316, 1315, 1314, 1313, 1312, 1311, 1310, 1309, 1308, 1307, 1306, 1305, 1304, 1303, 1302, 1301, 1300, 1299, 1298, 1297, 1296, 1295, 1294, 1293, 1292, 1291, 1290, 1289, 1288, 1287, 1286, 1285, 1284, 1283, 1282, 1281, 1280, 1279, 1278, 1277, 1276, 1275, 1274, 1273, 1272, 1271, 1270, 1269, 1268, 1267, 1266, 1265, 1264, 1263, 1262, 1261, 1260, 1259, 1258, 1257, 1256, 1255, 1254, 1253, 1252, 1251, 1250, 1249, 1248, 1247, 1246, 1245, 1244, 1243, 1242, 1241, 1240, 1239, 1238, 1237, 1236, 1235, 1234, 1233, 1232, 1231, 1230, 1229, 1228, 1227, 1226, 1225, 1224, 1223, 1222, 1221, 1220, 1219, 1218, 1217, 1216, 1215, 1214, 1213, 1212, 1211, 1210, 1209, 1208, 1207, 1206, 1205, 1204, 1203, 1202, 1201, 1200, 1199, 1198, 1197, 1196, 1195, 1194, 1193, 1192, 1191, 1190, 1189, 1188, 1187, 1186, 1185, 1184, 1183, 1182, 1181, 1180, 1179, 1178, 1177, 1176, 1175, 1174, 1173, 1172, 1171, 1170, 1169, 1168, 1167, 1166, 1165, 1164, 1163, 1162, 1161, 1160, 1159, 1158, 1157, 1156, 1155, 1154, 1153, 1152, 1151, 1150, 1149, 1148, 1147, 1146, 1145, 1144, 1143, 1142, 1141, 1140, 1139, 1138, 1137, 1136, 1135, 1134, 1133, 1132, 1131, 1130, 1129, 1128, 1127, 1126, 1125, 1124, 1123, 1122, 1121, 1120, 1119, 1118, 1117, 1116, 1115, 1114, 1113, 1112, 1111, 1110, 1109, 1108, 1107, 1106, 1105, 1104, 1103, 1102, 1101, 1100, 1099, 1098, 1097, 1096, 1095, 1094, 1093, 1092, 1091, 1090, 1089, 1088, 1087, 1086, 1085, 1084, 1083, 1082, 1081, 1080, 1079, 1078, 1077, 1076, 1075, 1074, 1073, 1072, 1071, 1070, 1069, 1068, 1067, 1066, 1065, 1064, 1063, 1062, 1061, 1060, 1059, 1058, 1057, 1056, 1055, 1054, 1053, 1052, 1051, 1050, 1049, 1048, 1047, 1046, 1045, 1044, 1043, 1042, 1041, 1040, 1039, 1038, 1037, 1036, 1035, 1034, 1033, 1032, 1031, 1030, 1029, 1028, 1027, 1026, 1025, 1024, 1023, 1022, 1021, 1020, 1019, 1018, 1017, 1016, 1015, 1014, 1013, 1012, 1011, 1010, 1009, 1008, 1007, 1006, 1005, 1004]]\n",
            "[16535, 1233, [16535, 15535, 14535, 13535, 12535, 11535, 10535, 9535, 8535, 7535, 6535, 5535, 4535, 3535, 2535, 1535, 1534, 1533, 1532, 1531, 1530, 1529, 1528, 1527, 1526, 1525, 1524, 1523, 1522, 1521, 1520, 1519, 1518, 1517, 1516, 1515, 1514, 1513, 1512, 1511, 1510, 1509, 1508, 1507, 1506, 1505, 1504, 1503, 1502, 1501, 1500, 1499, 1498, 1497, 1496, 1495, 1494, 1493, 1492, 1491, 1490, 1489, 1488, 1487, 1486, 1485, 1484, 1483, 1482, 1481, 1480, 1479, 1478, 1477, 1476, 1475, 1474, 1473, 1472, 1471, 1470, 1469, 1468, 1467, 1466, 1465, 1464, 1463, 1462, 1461, 1460, 1459, 1458, 1457, 1456, 1455, 1454, 1453, 1452, 1451, 1450, 1449, 1448, 1447, 1446, 1445, 1444, 1443, 1442, 1441, 1440, 1439, 1438, 1437, 1436, 1435, 1434, 1433, 1432, 1431, 1430, 1429, 1428, 1427, 1426, 1425, 1424, 1423, 1422, 1421, 1420, 1419, 1418, 1417, 1416, 1415, 1414, 1413, 1412, 1411, 1410, 1409, 1408, 1407, 1406, 1405, 1404, 1403, 1402, 1401, 1400, 1399, 1398, 1397, 1396, 1395, 1394, 1393, 1392, 1391, 1390, 1389, 1388, 1387, 1386, 1385, 1384, 1383, 1382, 1381, 1380, 1379, 1378, 1377, 1376, 1375, 1374, 1373, 1372, 1371, 1370, 1369, 1368, 1367, 1366, 1365, 1364, 1363, 1362, 1361, 1360, 1359, 1358, 1357, 1356, 1355, 1354, 1353, 1352, 1351, 1350, 1349, 1348, 1347, 1346, 1345, 1344, 1343, 1342, 1341, 1340, 1339, 1338, 1337, 1336, 1335, 1334, 1333, 1332, 1331, 1330, 1329, 1328, 1327, 1326, 1325, 1324, 1323, 1322, 1321, 1320, 1319, 1318, 1317, 1316, 1315, 1314, 1313, 1312, 1311, 1310, 1309, 1308, 1307, 1306, 1305, 1304, 1303, 1302, 1301, 1300, 1299, 1298, 1297, 1296, 1295, 1294, 1293, 1292, 1291, 1290, 1289, 1288, 1287, 1286, 1285, 1284, 1283, 1282, 1281, 1280, 1279, 1278, 1277, 1276, 1275, 1274, 1273, 1272, 1271, 1270, 1269, 1268, 1267, 1266, 1265, 1264, 1263, 1262, 1261, 1260, 1259, 1258, 1257, 1256, 1255, 1254, 1253, 1252, 1251, 1250, 1249, 1248, 1247, 1246, 1245, 1244, 1243, 1242, 1241, 1240, 1239, 1238, 1237, 1236, 1235, 1234, 1233]]\n",
            "100\n"
          ]
        }
      ]
    }
  ]
}