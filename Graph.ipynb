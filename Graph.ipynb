{
  "nbformat": 4,
  "nbformat_minor": 0,
  "metadata": {
    "colab": {
      "name": "Graph.ipynb",
      "provenance": [],
      "collapsed_sections": []
    },
    "kernelspec": {
      "name": "python3",
      "display_name": "Python 3"
    },
    "language_info": {
      "name": "python"
    }
  },
  "cells": [
    {
      "cell_type": "code",
      "metadata": {
        "colab": {
          "base_uri": "https://localhost:8080/"
        },
        "id": "WP6AYyum-vus",
        "outputId": "b1d9a928-6a63-4d1e-8e67-06ce2b3b8c6c"
      },
      "source": [
        "#READING CSV\n",
        "import pandas as pd\n",
        "from copy import deepcopy\n",
        "from google.colab import drive \n",
        "drive.mount('/content/gdrive')\n",
        "\n",
        "almacenes = pd.read_csv(\"/content/gdrive/MyDrive/Trabajos 7mo Ciclo/Complejidad/almacenes.csv\")\n",
        "alm = almacenes[['Coord X', 'Coord Y']]\n",
        "nodeTypeALM = [1]*100\n",
        "alm['NodeType'] = nodeTypeALM\n",
        "\n",
        "puntos_entrega = pd.read_csv(\"/content/gdrive/MyDrive/Trabajos 7mo Ciclo/Complejidad/puntos_entrega.csv\")\n",
        "pe = puntos_entrega[['Coord X', 'Coord Y']]\n",
        "nodeTypePE = [2]*5000\n",
        "pe['NodeType'] = nodeTypePE"
      ],
      "execution_count": 2,
      "outputs": [
        {
          "output_type": "stream",
          "name": "stdout",
          "text": [
            "Mounted at /content/gdrive\n"
          ]
        }
      ]
    },
    {
      "cell_type": "code",
      "metadata": {
        "id": "edb_s9rqI7f_"
      },
      "source": [
        "newDF = pd.concat([alm, pe])\n",
        "\n",
        "nodeTypeList = newDF[['Coord X', 'Coord Y', 'NodeType']].values.tolist()\n",
        "noTypeList = newDF[['Coord X', 'Coord Y']].values.tolist()\n",
        "\n",
        "#List to use\n",
        "adyList = deepcopy(nodeTypeList)\n",
        "#print(adyList)"
      ],
      "execution_count": 12,
      "outputs": []
    },
    {
      "cell_type": "code",
      "metadata": {
        "id": "Xeuq1clDvRyS"
      },
      "source": [
        "#Sorting List\n",
        "def orderList(list_):\n",
        "    newL = sorted(list_, key=lambda y: y[1])\n",
        "    newL.sort(key=lambda x: x[0])\n",
        "    return deepcopy(newL)\n",
        "\n",
        "newL = orderList(noTypeList)\n",
        "newTypeList = orderList(adyList)\n",
        "# print(newL)\n",
        "# print(newTypeList)"
      ],
      "execution_count": 13,
      "outputs": []
    },
    {
      "cell_type": "code",
      "metadata": {
        "id": "Enrcn4akyrCi"
      },
      "source": [
        "#Almacén/Punto de entrega Nodes to append\n",
        "def popStuff(popList, times):\n",
        "    to_return = []\n",
        "    popList.reverse()\n",
        "    for j in range(times):\n",
        "        to_return.append(popList.pop())\n",
        "    popList.reverse()\n",
        "    return to_return\n",
        "\n",
        "#Search X Coords Nodes\n",
        "def searchX(tempList, tempNodeTypeList, x):\n",
        "    returnList = []\n",
        "    max = 0\n",
        "    for i in tempList:\n",
        "        if i[0] == x:\n",
        "            max += 1\n",
        "            returnList.append(i)\n",
        "        else:\n",
        "            popStuff(tempList, max)\n",
        "            popped = popStuff(tempNodeTypeList, max)\n",
        "            return returnList, popped"
      ],
      "execution_count": 14,
      "outputs": []
    },
    {
      "cell_type": "code",
      "metadata": {
        "id": "RFOVy5orlwm-"
      },
      "source": [
        "# Create graph\n",
        "def graph(nodesList, newL_, newTypeList_):\n",
        "    xList = [i for i in range(1000)]\n",
        "    yList = [i for i in range(1000)]\n",
        "    nodesCont = 0\n",
        "\n",
        "    tempNoTypeList = deepcopy(newL_)\n",
        "    tempTypeList = deepcopy(newTypeList_)\n",
        "\n",
        "    for x in xList:\n",
        "        smallList = []\n",
        "        popped = []\n",
        "        smallList, popped = searchX(tempNoTypeList, tempTypeList, x)\n",
        "        for y in yList:\n",
        "            ady1 = nodesCont - 1000 #left then goes clockwise\n",
        "            ady2 = nodesCont - 1\n",
        "            ady3 = nodesCont + 1000\n",
        "            ady4 = nodesCont + 1\n",
        "            # Validations - not corners\n",
        "            if x == 0: ady1 = -1\n",
        "            if x == 999: ady3 = -1\n",
        "            if y == 0: ady2 = -1\n",
        "            if y == 999: ady4 = -1\n",
        "\n",
        "            ady0 = [ady1, ady2, ady3, ady4]\n",
        "\n",
        "            if [x, y] in smallList:\n",
        "                t = popped.pop(0)\n",
        "                nodesList.append([t[0], t[1], t[2], ady0])\n",
        "            else:\n",
        "                nodesList.append([x, y, 0, ady0])\n",
        "            \n",
        "            nodesCont += 1"
      ],
      "execution_count": 15,
      "outputs": []
    },
    {
      "cell_type": "code",
      "metadata": {
        "id": "kZ-s3hRyks4r"
      },
      "source": [
        "nodes = []\n",
        "graph(nodes, newL, newTypeList)"
      ],
      "execution_count": 16,
      "outputs": []
    },
    {
      "cell_type": "code",
      "metadata": {
        "colab": {
          "base_uri": "https://localhost:8080/"
        },
        "id": "FdIIjsfVM_-S",
        "outputId": "372c2fc1-cd6d-4af7-fa7b-c7fb0a20dc8f"
      },
      "source": [
        "def print_nodes(aeaList):\n",
        "    for i in range(1000):\n",
        "        print(aeaList[i])\n",
        "    print(len(aeaList))\n",
        "\n",
        "#print_nodes(nodesList)\n",
        "def print_corners(aeaList):\n",
        "    for i in range(0, 5):\n",
        "        print(aeaList[i])\n",
        "        print(aeaList[-i])\n",
        "\n",
        "print_corners(nodes)"
      ],
      "execution_count": 17,
      "outputs": [
        {
          "output_type": "stream",
          "name": "stdout",
          "text": [
            "[0, 0, 0, [-1, -1, 1000, 1]]\n",
            "[0, 0, 0, [-1, -1, 1000, 1]]\n",
            "[0, 1, 0, [-1, 0, 1001, 2]]\n",
            "[999, 999, 0, [998999, 999998, -1, -1]]\n",
            "[0, 2, 0, [-1, 1, 1002, 3]]\n",
            "[999, 998, 0, [998998, 999997, -1, 999999]]\n",
            "[0, 3, 0, [-1, 2, 1003, 4]]\n",
            "[999, 997, 0, [998997, 999996, -1, 999998]]\n",
            "[0, 4, 0, [-1, 3, 1004, 5]]\n",
            "[999, 996, 0, [998996, 999995, -1, 999997]]\n"
          ]
        }
      ]
    },
    {
      "cell_type": "code",
      "metadata": {
        "id": "oGOeTaMsSAlJ"
      },
      "source": [
        ""
      ],
      "execution_count": null,
      "outputs": []
    }
  ]
}